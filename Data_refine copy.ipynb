{
 "cells": [
  {
   "cell_type": "markdown",
   "metadata": {},
   "source": [
    "### Refining Data"
   ]
  },
  {
   "cell_type": "code",
   "execution_count": 1,
   "metadata": {},
   "outputs": [],
   "source": [
    "import pandas as pd\n"
   ]
  },
  {
   "cell_type": "code",
   "execution_count": 2,
   "metadata": {},
   "outputs": [],
   "source": [
    "# crop_yield = pd.read_csv('Data\\crop_yield.csv')\n",
    "# crop_data = pd.read_csv('Data\\Crop_Data.csv')\n",
    "\n"
   ]
  },
  {
   "cell_type": "code",
   "execution_count": 3,
   "metadata": {},
   "outputs": [],
   "source": [
    "crop_yield = pd.read_csv('E:\\competition\\SITNovate hack\\SITNovate_blueberry\\SITNovate\\Data\\crop_yield.csv')\n",
    "crop_data = pd.read_csv('E:\\competition\\SITNovate hack\\SITNovate_blueberry\\SITNovate\\Data\\Crop_Data.csv')"
   ]
  },
  {
   "cell_type": "code",
   "execution_count": 4,
   "metadata": {},
   "outputs": [
    {
     "name": "stdout",
     "output_type": "stream",
     "text": [
      "<class 'pandas.core.frame.DataFrame'>\n",
      "RangeIndex: 19689 entries, 0 to 19688\n",
      "Data columns (total 10 columns):\n",
      " #   Column           Non-Null Count  Dtype  \n",
      "---  ------           --------------  -----  \n",
      " 0   Crop             19689 non-null  object \n",
      " 1   Crop_Year        19689 non-null  int64  \n",
      " 2   Season           19689 non-null  object \n",
      " 3   State            19689 non-null  object \n",
      " 4   Area             19689 non-null  float64\n",
      " 5   Production       19689 non-null  int64  \n",
      " 6   Annual_Rainfall  19689 non-null  float64\n",
      " 7   Fertilizer       19689 non-null  float64\n",
      " 8   Pesticide        19689 non-null  float64\n",
      " 9   Yield            19689 non-null  float64\n",
      "dtypes: float64(5), int64(2), object(3)\n",
      "memory usage: 1.5+ MB\n"
     ]
    }
   ],
   "source": [
    "crop_yield.info()\n",
    "crop_yield.drop([\"Crop_Year\",\"Area\",\"Fertilizer\",\"Pesticide\",\"Yield\"],axis=1,inplace=True)"
   ]
  },
  {
   "cell_type": "code",
   "execution_count": 5,
   "metadata": {},
   "outputs": [
    {
     "name": "stdout",
     "output_type": "stream",
     "text": [
      "<class 'pandas.core.frame.DataFrame'>\n",
      "RangeIndex: 5373 entries, 0 to 5372\n",
      "Data columns (total 11 columns):\n",
      " #   Column            Non-Null Count  Dtype  \n",
      "---  ------            --------------  -----  \n",
      " 0   Crop              5373 non-null   object \n",
      " 1   Season            5373 non-null   object \n",
      " 2   State             5373 non-null   object \n",
      " 3   Area              5373 non-null   float64\n",
      " 4   Soil Type         5373 non-null   object \n",
      " 5   Pesticide Usage   5373 non-null   object \n",
      " 6   pH                5373 non-null   object \n",
      " 7   Temperature       5373 non-null   object \n",
      " 8   Fertilizer Usage  5373 non-null   object \n",
      " 9   Price             5373 non-null   float64\n",
      " 10  Rainfall          5373 non-null   float64\n",
      "dtypes: float64(3), object(8)\n",
      "memory usage: 461.9+ KB\n"
     ]
    }
   ],
   "source": [
    "crop_data.info()\n",
    "crop_data.drop([\"Area\",\"Price\",\"Rainfall\"],axis=1,inplace=True)"
   ]
  },
  {
   "cell_type": "code",
   "execution_count": 6,
   "metadata": {},
   "outputs": [],
   "source": [
    "# Clean whitespace in key columns\n",
    "for df in [crop_yield, crop_data]:\n",
    "    df['Crop'] = df['Crop'].str.strip()\n",
    "    df['Season'] = df['Season'].str.strip()\n",
    "    df['State'] = df['State'].str.strip()"
   ]
  },
  {
   "cell_type": "code",
   "execution_count": 7,
   "metadata": {},
   "outputs": [],
   "source": [
    "final_merged_df = pd.merge(\n",
    "    crop_yield,\n",
    "    crop_data,\n",
    "    on=['Crop', 'Season', 'State'],\n",
    "    how='inner'\n",
    ")"
   ]
  },
  {
   "cell_type": "code",
   "execution_count": 8,
   "metadata": {},
   "outputs": [
    {
     "name": "stdout",
     "output_type": "stream",
     "text": [
      "Final Merged DataFrame Columns: ['Crop', 'Season', 'State', 'Production', 'Annual_Rainfall', 'Soil Type', 'Pesticide Usage', 'pH', 'Temperature', 'Fertilizer Usage']\n",
      "\n",
      "Sample Rows:\n",
      "           Crop  Season  State  Production  Annual_Rainfall      Soil Type  \\\n",
      "0  Cotton(lint)  Kharif  Assam         794           2051.4     Black Soil   \n",
      "1  Cotton(lint)  Kharif  Assam         794           2051.4     Black Soil   \n",
      "2  Cotton(lint)  Kharif  Assam         794           2051.4     Black Soil   \n",
      "3  Cotton(lint)  Kharif  Assam         794           2051.4     Black Soil   \n",
      "4  Cotton(lint)  Kharif  Assam         794           2051.4  Alluvial Soil   \n",
      "\n",
      "  Pesticide Usage       pH Temperature Fertilizer Usage  \n",
      "0             low  Average      Medium             High  \n",
      "1            high  Average      Medium              Low  \n",
      "2             low     High      Medium           Medium  \n",
      "3             low      Low        High             High  \n",
      "4            high     High        High              Low  \n"
     ]
    }
   ],
   "source": [
    "print(\"Final Merged DataFrame Columns:\", final_merged_df.columns.tolist())\n",
    "print(\"\\nSample Rows:\")\n",
    "print(final_merged_df.head())"
   ]
  },
  {
   "cell_type": "code",
   "execution_count": 9,
   "metadata": {},
   "outputs": [
    {
     "name": "stdout",
     "output_type": "stream",
     "text": [
      "<class 'pandas.core.frame.DataFrame'>\n",
      "RangeIndex: 95321 entries, 0 to 95320\n",
      "Data columns (total 10 columns):\n",
      " #   Column            Non-Null Count  Dtype  \n",
      "---  ------            --------------  -----  \n",
      " 0   Crop              95321 non-null  object \n",
      " 1   Season            95321 non-null  object \n",
      " 2   State             95321 non-null  object \n",
      " 3   Production        95321 non-null  int64  \n",
      " 4   Annual_Rainfall   95321 non-null  float64\n",
      " 5   Soil Type         95321 non-null  object \n",
      " 6   Pesticide Usage   95321 non-null  object \n",
      " 7   pH                95321 non-null  object \n",
      " 8   Temperature       95321 non-null  object \n",
      " 9   Fertilizer Usage  95321 non-null  object \n",
      "dtypes: float64(1), int64(1), object(8)\n",
      "memory usage: 7.3+ MB\n"
     ]
    }
   ],
   "source": [
    "final_merged_df.info()"
   ]
  },
  {
   "cell_type": "code",
   "execution_count": 10,
   "metadata": {},
   "outputs": [],
   "source": [
    "final_merged_df.to_csv(\"data/new_data.csv\")"
   ]
  },
  {
   "cell_type": "markdown",
   "metadata": {},
   "source": [
    "### Data preprocessing Start"
   ]
  },
  {
   "cell_type": "code",
   "execution_count": 11,
   "metadata": {},
   "outputs": [],
   "source": [
    "final_merged_df.to_csv(\"data/new_data.csv\")"
   ]
  },
  {
   "cell_type": "code",
   "execution_count": 12,
   "metadata": {},
   "outputs": [
    {
     "data": {
      "text/html": [
       "<div>\n",
       "<style scoped>\n",
       "    .dataframe tbody tr th:only-of-type {\n",
       "        vertical-align: middle;\n",
       "    }\n",
       "\n",
       "    .dataframe tbody tr th {\n",
       "        vertical-align: top;\n",
       "    }\n",
       "\n",
       "    .dataframe thead th {\n",
       "        text-align: right;\n",
       "    }\n",
       "</style>\n",
       "<table border=\"1\" class=\"dataframe\">\n",
       "  <thead>\n",
       "    <tr style=\"text-align: right;\">\n",
       "      <th></th>\n",
       "      <th>Crop</th>\n",
       "      <th>Season</th>\n",
       "      <th>State</th>\n",
       "      <th>Production</th>\n",
       "      <th>Annual_Rainfall</th>\n",
       "      <th>Soil Type</th>\n",
       "      <th>Pesticide Usage</th>\n",
       "      <th>pH</th>\n",
       "      <th>Temperature</th>\n",
       "      <th>Fertilizer Usage</th>\n",
       "    </tr>\n",
       "  </thead>\n",
       "  <tbody>\n",
       "    <tr>\n",
       "      <th>0</th>\n",
       "      <td>Cotton(lint)</td>\n",
       "      <td>Kharif</td>\n",
       "      <td>Assam</td>\n",
       "      <td>794</td>\n",
       "      <td>2051.4</td>\n",
       "      <td>Black Soil</td>\n",
       "      <td>low</td>\n",
       "      <td>Average</td>\n",
       "      <td>Medium</td>\n",
       "      <td>High</td>\n",
       "    </tr>\n",
       "    <tr>\n",
       "      <th>1</th>\n",
       "      <td>Cotton(lint)</td>\n",
       "      <td>Kharif</td>\n",
       "      <td>Assam</td>\n",
       "      <td>794</td>\n",
       "      <td>2051.4</td>\n",
       "      <td>Black Soil</td>\n",
       "      <td>high</td>\n",
       "      <td>Average</td>\n",
       "      <td>Medium</td>\n",
       "      <td>Low</td>\n",
       "    </tr>\n",
       "    <tr>\n",
       "      <th>2</th>\n",
       "      <td>Cotton(lint)</td>\n",
       "      <td>Kharif</td>\n",
       "      <td>Assam</td>\n",
       "      <td>794</td>\n",
       "      <td>2051.4</td>\n",
       "      <td>Black Soil</td>\n",
       "      <td>low</td>\n",
       "      <td>High</td>\n",
       "      <td>Medium</td>\n",
       "      <td>Medium</td>\n",
       "    </tr>\n",
       "    <tr>\n",
       "      <th>3</th>\n",
       "      <td>Cotton(lint)</td>\n",
       "      <td>Kharif</td>\n",
       "      <td>Assam</td>\n",
       "      <td>794</td>\n",
       "      <td>2051.4</td>\n",
       "      <td>Black Soil</td>\n",
       "      <td>low</td>\n",
       "      <td>Low</td>\n",
       "      <td>High</td>\n",
       "      <td>High</td>\n",
       "    </tr>\n",
       "    <tr>\n",
       "      <th>4</th>\n",
       "      <td>Cotton(lint)</td>\n",
       "      <td>Kharif</td>\n",
       "      <td>Assam</td>\n",
       "      <td>794</td>\n",
       "      <td>2051.4</td>\n",
       "      <td>Alluvial Soil</td>\n",
       "      <td>high</td>\n",
       "      <td>High</td>\n",
       "      <td>High</td>\n",
       "      <td>Low</td>\n",
       "    </tr>\n",
       "    <tr>\n",
       "      <th>...</th>\n",
       "      <td>...</td>\n",
       "      <td>...</td>\n",
       "      <td>...</td>\n",
       "      <td>...</td>\n",
       "      <td>...</td>\n",
       "      <td>...</td>\n",
       "      <td>...</td>\n",
       "      <td>...</td>\n",
       "      <td>...</td>\n",
       "      <td>...</td>\n",
       "    </tr>\n",
       "    <tr>\n",
       "      <th>95316</th>\n",
       "      <td>Wheat</td>\n",
       "      <td>Rabi</td>\n",
       "      <td>Jammu and Kashmir</td>\n",
       "      <td>392160</td>\n",
       "      <td>1356.2</td>\n",
       "      <td>Red/Yellow Soil</td>\n",
       "      <td>high</td>\n",
       "      <td>Low</td>\n",
       "      <td>Medium</td>\n",
       "      <td>Medium</td>\n",
       "    </tr>\n",
       "    <tr>\n",
       "      <th>95317</th>\n",
       "      <td>Wheat</td>\n",
       "      <td>Rabi</td>\n",
       "      <td>Jammu and Kashmir</td>\n",
       "      <td>392160</td>\n",
       "      <td>1356.2</td>\n",
       "      <td>Laterile Soil</td>\n",
       "      <td>low</td>\n",
       "      <td>High</td>\n",
       "      <td>High</td>\n",
       "      <td>High</td>\n",
       "    </tr>\n",
       "    <tr>\n",
       "      <th>95318</th>\n",
       "      <td>Wheat</td>\n",
       "      <td>Rabi</td>\n",
       "      <td>Jammu and Kashmir</td>\n",
       "      <td>392160</td>\n",
       "      <td>1356.2</td>\n",
       "      <td>Red/Yellow Soil</td>\n",
       "      <td>high</td>\n",
       "      <td>Low</td>\n",
       "      <td>Low</td>\n",
       "      <td>Low</td>\n",
       "    </tr>\n",
       "    <tr>\n",
       "      <th>95319</th>\n",
       "      <td>Wheat</td>\n",
       "      <td>Rabi</td>\n",
       "      <td>Jammu and Kashmir</td>\n",
       "      <td>392160</td>\n",
       "      <td>1356.2</td>\n",
       "      <td>Alluvial Soil</td>\n",
       "      <td>low</td>\n",
       "      <td>Average</td>\n",
       "      <td>Medium</td>\n",
       "      <td>Medium</td>\n",
       "    </tr>\n",
       "    <tr>\n",
       "      <th>95320</th>\n",
       "      <td>Wheat</td>\n",
       "      <td>Rabi</td>\n",
       "      <td>Jammu and Kashmir</td>\n",
       "      <td>392160</td>\n",
       "      <td>1356.2</td>\n",
       "      <td>Black Soil</td>\n",
       "      <td>high</td>\n",
       "      <td>Low</td>\n",
       "      <td>Medium</td>\n",
       "      <td>High</td>\n",
       "    </tr>\n",
       "  </tbody>\n",
       "</table>\n",
       "<p>95321 rows × 10 columns</p>\n",
       "</div>"
      ],
      "text/plain": [
       "               Crop  Season              State  Production  Annual_Rainfall  \\\n",
       "0      Cotton(lint)  Kharif              Assam         794           2051.4   \n",
       "1      Cotton(lint)  Kharif              Assam         794           2051.4   \n",
       "2      Cotton(lint)  Kharif              Assam         794           2051.4   \n",
       "3      Cotton(lint)  Kharif              Assam         794           2051.4   \n",
       "4      Cotton(lint)  Kharif              Assam         794           2051.4   \n",
       "...             ...     ...                ...         ...              ...   \n",
       "95316         Wheat    Rabi  Jammu and Kashmir      392160           1356.2   \n",
       "95317         Wheat    Rabi  Jammu and Kashmir      392160           1356.2   \n",
       "95318         Wheat    Rabi  Jammu and Kashmir      392160           1356.2   \n",
       "95319         Wheat    Rabi  Jammu and Kashmir      392160           1356.2   \n",
       "95320         Wheat    Rabi  Jammu and Kashmir      392160           1356.2   \n",
       "\n",
       "             Soil Type Pesticide Usage       pH Temperature Fertilizer Usage  \n",
       "0           Black Soil             low  Average      Medium             High  \n",
       "1           Black Soil            high  Average      Medium              Low  \n",
       "2           Black Soil             low     High      Medium           Medium  \n",
       "3           Black Soil             low      Low        High             High  \n",
       "4        Alluvial Soil            high     High        High              Low  \n",
       "...                ...             ...      ...         ...              ...  \n",
       "95316  Red/Yellow Soil            high      Low      Medium           Medium  \n",
       "95317    Laterile Soil             low     High        High             High  \n",
       "95318  Red/Yellow Soil            high      Low         Low              Low  \n",
       "95319    Alluvial Soil             low  Average      Medium           Medium  \n",
       "95320       Black Soil            high      Low      Medium             High  \n",
       "\n",
       "[95321 rows x 10 columns]"
      ]
     },
     "execution_count": 12,
     "metadata": {},
     "output_type": "execute_result"
    }
   ],
   "source": [
    "final_merged_df"
   ]
  },
  {
   "cell_type": "code",
   "execution_count": 13,
   "metadata": {},
   "outputs": [
    {
     "data": {
      "text/plain": [
       "Crop                0\n",
       "Season              0\n",
       "State               0\n",
       "Production          0\n",
       "Annual_Rainfall     0\n",
       "Soil Type           0\n",
       "Pesticide Usage     0\n",
       "pH                  0\n",
       "Temperature         0\n",
       "Fertilizer Usage    0\n",
       "dtype: int64"
      ]
     },
     "execution_count": 13,
     "metadata": {},
     "output_type": "execute_result"
    }
   ],
   "source": [
    "final_merged_df.isnull().sum()"
   ]
  },
  {
   "cell_type": "code",
   "execution_count": 14,
   "metadata": {},
   "outputs": [
    {
     "data": {
      "text/plain": [
       "dtype('O')"
      ]
     },
     "execution_count": 14,
     "metadata": {},
     "output_type": "execute_result"
    }
   ],
   "source": [
    "final_merged_df[\"pH\"].dtype"
   ]
  },
  {
   "cell_type": "code",
   "execution_count": 15,
   "metadata": {},
   "outputs": [
    {
     "data": {
      "text/plain": [
       "count    9.532100e+04\n",
       "mean     2.589680e+06\n",
       "std      1.026405e+07\n",
       "min      0.000000e+00\n",
       "25%      1.464900e+04\n",
       "50%      1.362810e+05\n",
       "75%      1.028700e+06\n",
       "max      1.796982e+08\n",
       "Name: Production, dtype: float64"
      ]
     },
     "execution_count": 15,
     "metadata": {},
     "output_type": "execute_result"
    }
   ],
   "source": [
    "final_merged_df[\"Production\"].describe()"
   ]
  },
  {
   "cell_type": "code",
   "execution_count": 16,
   "metadata": {},
   "outputs": [],
   "source": [
    "Q1 = final_merged_df[\"Production\"].quantile(0.25)\n",
    "Q3 = final_merged_df[\"Production\"].quantile(0.75)\n",
    "IQR = Q3 - Q1\n",
    "\n",
    "# Define the lower and upper bounds for outlier detection\n",
    "lower_bound = Q1 - 1.5 * IQR\n",
    "upper_bound = Q3 + 1.5 * IQR\n",
    "for i in range(95321):\n",
    "    if(final_merged_df.loc[i,\"Production\"]<lower_bound or final_merged_df.loc[i,\"Production\"]>upper_bound):\n",
    "        final_merged_df.drop(i,axis=0,inplace=True)"
   ]
  },
  {
   "cell_type": "code",
   "execution_count": 17,
   "metadata": {},
   "outputs": [
    {
     "data": {
      "text/plain": [
       "<Axes: ylabel='Production'>"
      ]
     },
     "execution_count": 17,
     "metadata": {},
     "output_type": "execute_result"
    },
    {
     "data": {
      "image/png": "[encoded data removed]",
      "text/plain": [
       "<Figure size 640x480 with 1 Axes>"
      ]
     },
     "metadata": {},
     "output_type": "display_data"
    }
   ],
   "source": [
    "import seaborn as sns\n",
    "sns.boxplot(final_merged_df[\"Production\"])"
   ]
  },
  {
   "cell_type": "code",
   "execution_count": 18,
   "metadata": {},
   "outputs": [
    {
     "data": {
      "text/plain": [
       "<Axes: xlabel='Production', ylabel='Count'>"
      ]
     },
     "execution_count": 18,
     "metadata": {},
     "output_type": "execute_result"
    },
    {
     "data": {
      "image/png": "[encoded data removed]",
      "text/plain": [
       "<Figure size 640x480 with 1 Axes>"
      ]
     },
     "metadata": {},
     "output_type": "display_data"
    }
   ],
   "source": [
    "sns.histplot(final_merged_df[\"Production\"])"
   ]
  },
  {
   "cell_type": "code",
   "execution_count": 19,
   "metadata": {},
   "outputs": [
    {
     "data": {
      "text/plain": [
       "Production\n",
       "2         145\n",
       "6         119\n",
       "226       119\n",
       "80        113\n",
       "3          99\n",
       "         ... \n",
       "520983      1\n",
       "200290      1\n",
       "181900      1\n",
       "12410       1\n",
       "5560        1\n",
       "Name: count, Length: 4148, dtype: int64"
      ]
     },
     "execution_count": 19,
     "metadata": {},
     "output_type": "execute_result"
    }
   ],
   "source": [
    "final_merged_df[\"Production\"].value_counts()"
   ]
  },
  {
   "cell_type": "code",
   "execution_count": 20,
   "metadata": {},
   "outputs": [
    {
     "data": {
      "text/plain": [
       "Soil Type\n",
       "Alluvial Soil      32793\n",
       "Black Soil         16992\n",
       "Red/Yellow Soil    16896\n",
       "Laterile Soil      11979\n",
       "Name: count, dtype: int64"
      ]
     },
     "execution_count": 20,
     "metadata": {},
     "output_type": "execute_result"
    }
   ],
   "source": [
    "final_merged_df[\"Soil Type\"].value_counts()"
   ]
  },
  {
   "cell_type": "code",
   "execution_count": 21,
   "metadata": {},
   "outputs": [
    {
     "name": "stdout",
     "output_type": "stream",
     "text": [
      "Alluvial Soil : 303836.558198396\n",
      "Laterile Soil : 262712.4128057434\n",
      "Black Soil : 356285.7525894539\n",
      "Red/Yellow Soil : 279665.08617424243\n"
     ]
    }
   ],
   "source": [
    "for i in list(set(final_merged_df[\"Soil Type\"])):\n",
    "    print(i,\":\",final_merged_df[final_merged_df[\"Soil Type\"]==i][\"Production\"].mean())"
   ]
  },
  {
   "cell_type": "code",
   "execution_count": 22,
   "metadata": {},
   "outputs": [],
   "source": [
    "freq_encode_cols = [\"Crop\",\"Season\",\"State\"]\n",
    "for i in freq_encode_cols:\n",
    "    freq_map = final_merged_df.loc[:,i].value_counts().to_dict()\n",
    "    final_merged_df.loc[:,i+'_f'] = final_merged_df.loc[:,i].map(freq_map)\n",
    "    final_merged_df.drop(columns=[i],inplace=True)"
   ]
  },
  {
   "cell_type": "code",
   "execution_count": 23,
   "metadata": {},
   "outputs": [
    {
     "data": {
      "text/plain": [
       "Pesticide Usage\n",
       "low     39363\n",
       "high    39297\n",
       "Name: count, dtype: int64"
      ]
     },
     "execution_count": 23,
     "metadata": {},
     "output_type": "execute_result"
    }
   ],
   "source": [
    "final_merged_df[\"Pesticide Usage\"].value_counts()"
   ]
  },
  {
   "cell_type": "code",
   "execution_count": 26,
   "metadata": {},
   "outputs": [],
   "source": [
    "ordinal_encoding_cols = {\"pH\": [\"Low\", \"Medium\", \"High\"], \"Temperature\": [\"low\", \"Medium\", \"High\"], \"Fertilizer Usage\": [\"low\", \"Average\", \"High\"], \"Pesticide Usage\": [\"Low\", \"High\"]}\n",
    "import category_encoders as ce\n",
    "for col, categories in ordinal_encoding_cols.items():\n",
    "    oe = ce.OrdinalEncoder(cols=[col], mapping=[{'col': col, 'mapping': {category: idx for idx, category in enumerate(categories, 1)}}])\n",
    "    final_merged_df = oe.fit_transform(final_merged_df)\n"
   ]
  },
  {
   "cell_type": "code",
   "execution_count": 27,
   "metadata": {},
   "outputs": [
    {
     "data": {
      "text/html": [
       "<div>\n",
       "<style scoped>\n",
       "    .dataframe tbody tr th:only-of-type {\n",
       "        vertical-align: middle;\n",
       "    }\n",
       "\n",
       "    .dataframe tbody tr th {\n",
       "        vertical-align: top;\n",
       "    }\n",
       "\n",
       "    .dataframe thead th {\n",
       "        text-align: right;\n",
       "    }\n",
       "</style>\n",
       "<table border=\"1\" class=\"dataframe\">\n",
       "  <thead>\n",
       "    <tr style=\"text-align: right;\">\n",
       "      <th></th>\n",
       "      <th>Production</th>\n",
       "      <th>Annual_Rainfall</th>\n",
       "      <th>Soil Type</th>\n",
       "      <th>Pesticide Usage</th>\n",
       "      <th>pH</th>\n",
       "      <th>Temperature</th>\n",
       "      <th>Fertilizer Usage</th>\n",
       "      <th>Crop_f</th>\n",
       "      <th>Season_f</th>\n",
       "      <th>State_f</th>\n",
       "    </tr>\n",
       "  </thead>\n",
       "  <tbody>\n",
       "    <tr>\n",
       "      <th>0</th>\n",
       "      <td>794</td>\n",
       "      <td>2051.4</td>\n",
       "      <td>Black Soil</td>\n",
       "      <td>-1.0</td>\n",
       "      <td>-1.0</td>\n",
       "      <td>2.0</td>\n",
       "      <td>3.0</td>\n",
       "      <td>7159</td>\n",
       "      <td>30065</td>\n",
       "      <td>4192</td>\n",
       "    </tr>\n",
       "    <tr>\n",
       "      <th>1</th>\n",
       "      <td>794</td>\n",
       "      <td>2051.4</td>\n",
       "      <td>Black Soil</td>\n",
       "      <td>-1.0</td>\n",
       "      <td>-1.0</td>\n",
       "      <td>2.0</td>\n",
       "      <td>-1.0</td>\n",
       "      <td>7159</td>\n",
       "      <td>30065</td>\n",
       "      <td>4192</td>\n",
       "    </tr>\n",
       "    <tr>\n",
       "      <th>2</th>\n",
       "      <td>794</td>\n",
       "      <td>2051.4</td>\n",
       "      <td>Black Soil</td>\n",
       "      <td>-1.0</td>\n",
       "      <td>3.0</td>\n",
       "      <td>2.0</td>\n",
       "      <td>-1.0</td>\n",
       "      <td>7159</td>\n",
       "      <td>30065</td>\n",
       "      <td>4192</td>\n",
       "    </tr>\n",
       "    <tr>\n",
       "      <th>3</th>\n",
       "      <td>794</td>\n",
       "      <td>2051.4</td>\n",
       "      <td>Black Soil</td>\n",
       "      <td>-1.0</td>\n",
       "      <td>1.0</td>\n",
       "      <td>3.0</td>\n",
       "      <td>3.0</td>\n",
       "      <td>7159</td>\n",
       "      <td>30065</td>\n",
       "      <td>4192</td>\n",
       "    </tr>\n",
       "    <tr>\n",
       "      <th>4</th>\n",
       "      <td>794</td>\n",
       "      <td>2051.4</td>\n",
       "      <td>Alluvial Soil</td>\n",
       "      <td>-1.0</td>\n",
       "      <td>3.0</td>\n",
       "      <td>3.0</td>\n",
       "      <td>-1.0</td>\n",
       "      <td>7159</td>\n",
       "      <td>30065</td>\n",
       "      <td>4192</td>\n",
       "    </tr>\n",
       "    <tr>\n",
       "      <th>...</th>\n",
       "      <td>...</td>\n",
       "      <td>...</td>\n",
       "      <td>...</td>\n",
       "      <td>...</td>\n",
       "      <td>...</td>\n",
       "      <td>...</td>\n",
       "      <td>...</td>\n",
       "      <td>...</td>\n",
       "      <td>...</td>\n",
       "      <td>...</td>\n",
       "    </tr>\n",
       "    <tr>\n",
       "      <th>95316</th>\n",
       "      <td>392160</td>\n",
       "      <td>1356.2</td>\n",
       "      <td>Red/Yellow Soil</td>\n",
       "      <td>-1.0</td>\n",
       "      <td>1.0</td>\n",
       "      <td>2.0</td>\n",
       "      <td>-1.0</td>\n",
       "      <td>8491</td>\n",
       "      <td>17297</td>\n",
       "      <td>1894</td>\n",
       "    </tr>\n",
       "    <tr>\n",
       "      <th>95317</th>\n",
       "      <td>392160</td>\n",
       "      <td>1356.2</td>\n",
       "      <td>Laterile Soil</td>\n",
       "      <td>-1.0</td>\n",
       "      <td>3.0</td>\n",
       "      <td>3.0</td>\n",
       "      <td>3.0</td>\n",
       "      <td>8491</td>\n",
       "      <td>17297</td>\n",
       "      <td>1894</td>\n",
       "    </tr>\n",
       "    <tr>\n",
       "      <th>95318</th>\n",
       "      <td>392160</td>\n",
       "      <td>1356.2</td>\n",
       "      <td>Red/Yellow Soil</td>\n",
       "      <td>-1.0</td>\n",
       "      <td>1.0</td>\n",
       "      <td>-1.0</td>\n",
       "      <td>-1.0</td>\n",
       "      <td>8491</td>\n",
       "      <td>17297</td>\n",
       "      <td>1894</td>\n",
       "    </tr>\n",
       "    <tr>\n",
       "      <th>95319</th>\n",
       "      <td>392160</td>\n",
       "      <td>1356.2</td>\n",
       "      <td>Alluvial Soil</td>\n",
       "      <td>-1.0</td>\n",
       "      <td>-1.0</td>\n",
       "      <td>2.0</td>\n",
       "      <td>-1.0</td>\n",
       "      <td>8491</td>\n",
       "      <td>17297</td>\n",
       "      <td>1894</td>\n",
       "    </tr>\n",
       "    <tr>\n",
       "      <th>95320</th>\n",
       "      <td>392160</td>\n",
       "      <td>1356.2</td>\n",
       "      <td>Black Soil</td>\n",
       "      <td>-1.0</td>\n",
       "      <td>1.0</td>\n",
       "      <td>2.0</td>\n",
       "      <td>3.0</td>\n",
       "      <td>8491</td>\n",
       "      <td>17297</td>\n",
       "      <td>1894</td>\n",
       "    </tr>\n",
       "  </tbody>\n",
       "</table>\n",
       "<p>78660 rows × 10 columns</p>\n",
       "</div>"
      ],
      "text/plain": [
       "       Production  Annual_Rainfall        Soil Type  Pesticide Usage   pH  \\\n",
       "0             794           2051.4       Black Soil             -1.0 -1.0   \n",
       "1             794           2051.4       Black Soil             -1.0 -1.0   \n",
       "2             794           2051.4       Black Soil             -1.0  3.0   \n",
       "3             794           2051.4       Black Soil             -1.0  1.0   \n",
       "4             794           2051.4    Alluvial Soil             -1.0  3.0   \n",
       "...           ...              ...              ...              ...  ...   \n",
       "95316      392160           1356.2  Red/Yellow Soil             -1.0  1.0   \n",
       "95317      392160           1356.2    Laterile Soil             -1.0  3.0   \n",
       "95318      392160           1356.2  Red/Yellow Soil             -1.0  1.0   \n",
       "95319      392160           1356.2    Alluvial Soil             -1.0 -1.0   \n",
       "95320      392160           1356.2       Black Soil             -1.0  1.0   \n",
       "\n",
       "       Temperature  Fertilizer Usage  Crop_f  Season_f  State_f  \n",
       "0              2.0               3.0    7159     30065     4192  \n",
       "1              2.0              -1.0    7159     30065     4192  \n",
       "2              2.0              -1.0    7159     30065     4192  \n",
       "3              3.0               3.0    7159     30065     4192  \n",
       "4              3.0              -1.0    7159     30065     4192  \n",
       "...            ...               ...     ...       ...      ...  \n",
       "95316          2.0              -1.0    8491     17297     1894  \n",
       "95317          3.0               3.0    8491     17297     1894  \n",
       "95318         -1.0              -1.0    8491     17297     1894  \n",
       "95319          2.0              -1.0    8491     17297     1894  \n",
       "95320          2.0               3.0    8491     17297     1894  \n",
       "\n",
       "[78660 rows x 10 columns]"
      ]
     },
     "execution_count": 27,
     "metadata": {},
     "output_type": "execute_result"
    }
   ],
   "source": [
    "final_merged_df"
   ]
  },
  {
   "cell_type": "code",
   "execution_count": null,
   "metadata": {},
   "outputs": [],
   "source": [
    "from sklearn.preprocessing import MinMaxScaler\n",
    "mns = MinMaxScaler()\n",
    "final_merged_df[\"Production\"] = mns.fit_transform(final_merged_df[[\"Production\"]])"
   ]
  },
  {
   "cell_type": "code",
   "execution_count": null,
   "metadata": {},
   "outputs": [
    {
     "data": {
      "text/html": [
       "<div>\n",
       "<style scoped>\n",
       "    .dataframe tbody tr th:only-of-type {\n",
       "        vertical-align: middle;\n",
       "    }\n",
       "\n",
       "    .dataframe tbody tr th {\n",
       "        vertical-align: top;\n",
       "    }\n",
       "\n",
       "    .dataframe thead th {\n",
       "        text-align: right;\n",
       "    }\n",
       "</style>\n",
       "<table border=\"1\" class=\"dataframe\">\n",
       "  <thead>\n",
       "    <tr style=\"text-align: right;\">\n",
       "      <th></th>\n",
       "      <th>Production</th>\n",
       "      <th>Annual_Rainfall</th>\n",
       "      <th>Pesticide Usage</th>\n",
       "      <th>pH</th>\n",
       "      <th>Temperature</th>\n",
       "      <th>Fertilizer Usage</th>\n",
       "      <th>Crop_f</th>\n",
       "      <th>Season_f</th>\n",
       "      <th>State_f</th>\n",
       "      <th>Soil Type_f</th>\n",
       "    </tr>\n",
       "  </thead>\n",
       "  <tbody>\n",
       "    <tr>\n",
       "      <th>0</th>\n",
       "      <td>0.000313</td>\n",
       "      <td>2051.4</td>\n",
       "      <td>0</td>\n",
       "      <td>1</td>\n",
       "      <td>1</td>\n",
       "      <td>2</td>\n",
       "      <td>7159</td>\n",
       "      <td>30065</td>\n",
       "      <td>4192</td>\n",
       "      <td>16992</td>\n",
       "    </tr>\n",
       "    <tr>\n",
       "      <th>1</th>\n",
       "      <td>0.000313</td>\n",
       "      <td>2051.4</td>\n",
       "      <td>1</td>\n",
       "      <td>1</td>\n",
       "      <td>1</td>\n",
       "      <td>0</td>\n",
       "      <td>7159</td>\n",
       "      <td>30065</td>\n",
       "      <td>4192</td>\n",
       "      <td>16992</td>\n",
       "    </tr>\n",
       "    <tr>\n",
       "      <th>2</th>\n",
       "      <td>0.000313</td>\n",
       "      <td>2051.4</td>\n",
       "      <td>0</td>\n",
       "      <td>2</td>\n",
       "      <td>1</td>\n",
       "      <td>1</td>\n",
       "      <td>7159</td>\n",
       "      <td>30065</td>\n",
       "      <td>4192</td>\n",
       "      <td>16992</td>\n",
       "    </tr>\n",
       "    <tr>\n",
       "      <th>3</th>\n",
       "      <td>0.000313</td>\n",
       "      <td>2051.4</td>\n",
       "      <td>0</td>\n",
       "      <td>0</td>\n",
       "      <td>2</td>\n",
       "      <td>2</td>\n",
       "      <td>7159</td>\n",
       "      <td>30065</td>\n",
       "      <td>4192</td>\n",
       "      <td>16992</td>\n",
       "    </tr>\n",
       "    <tr>\n",
       "      <th>4</th>\n",
       "      <td>0.000313</td>\n",
       "      <td>2051.4</td>\n",
       "      <td>1</td>\n",
       "      <td>2</td>\n",
       "      <td>2</td>\n",
       "      <td>0</td>\n",
       "      <td>7159</td>\n",
       "      <td>30065</td>\n",
       "      <td>4192</td>\n",
       "      <td>32793</td>\n",
       "    </tr>\n",
       "    <tr>\n",
       "      <th>...</th>\n",
       "      <td>...</td>\n",
       "      <td>...</td>\n",
       "      <td>...</td>\n",
       "      <td>...</td>\n",
       "      <td>...</td>\n",
       "      <td>...</td>\n",
       "      <td>...</td>\n",
       "      <td>...</td>\n",
       "      <td>...</td>\n",
       "      <td>...</td>\n",
       "    </tr>\n",
       "    <tr>\n",
       "      <th>95316</th>\n",
       "      <td>0.154766</td>\n",
       "      <td>1356.2</td>\n",
       "      <td>1</td>\n",
       "      <td>0</td>\n",
       "      <td>1</td>\n",
       "      <td>1</td>\n",
       "      <td>8491</td>\n",
       "      <td>17297</td>\n",
       "      <td>1894</td>\n",
       "      <td>16896</td>\n",
       "    </tr>\n",
       "    <tr>\n",
       "      <th>95317</th>\n",
       "      <td>0.154766</td>\n",
       "      <td>1356.2</td>\n",
       "      <td>0</td>\n",
       "      <td>2</td>\n",
       "      <td>2</td>\n",
       "      <td>2</td>\n",
       "      <td>8491</td>\n",
       "      <td>17297</td>\n",
       "      <td>1894</td>\n",
       "      <td>11979</td>\n",
       "    </tr>\n",
       "    <tr>\n",
       "      <th>95318</th>\n",
       "      <td>0.154766</td>\n",
       "      <td>1356.2</td>\n",
       "      <td>1</td>\n",
       "      <td>0</td>\n",
       "      <td>0</td>\n",
       "      <td>0</td>\n",
       "      <td>8491</td>\n",
       "      <td>17297</td>\n",
       "      <td>1894</td>\n",
       "      <td>16896</td>\n",
       "    </tr>\n",
       "    <tr>\n",
       "      <th>95319</th>\n",
       "      <td>0.154766</td>\n",
       "      <td>1356.2</td>\n",
       "      <td>0</td>\n",
       "      <td>1</td>\n",
       "      <td>1</td>\n",
       "      <td>1</td>\n",
       "      <td>8491</td>\n",
       "      <td>17297</td>\n",
       "      <td>1894</td>\n",
       "      <td>32793</td>\n",
       "    </tr>\n",
       "    <tr>\n",
       "      <th>95320</th>\n",
       "      <td>0.154766</td>\n",
       "      <td>1356.2</td>\n",
       "      <td>1</td>\n",
       "      <td>0</td>\n",
       "      <td>1</td>\n",
       "      <td>2</td>\n",
       "      <td>8491</td>\n",
       "      <td>17297</td>\n",
       "      <td>1894</td>\n",
       "      <td>16992</td>\n",
       "    </tr>\n",
       "  </tbody>\n",
       "</table>\n",
       "<p>78660 rows × 10 columns</p>\n",
       "</div>"
      ],
      "text/plain": [
       "       Production  Annual_Rainfall Pesticide Usage pH Temperature  \\\n",
       "0        0.000313           2051.4               0  1           1   \n",
       "1        0.000313           2051.4               1  1           1   \n",
       "2        0.000313           2051.4               0  2           1   \n",
       "3        0.000313           2051.4               0  0           2   \n",
       "4        0.000313           2051.4               1  2           2   \n",
       "...           ...              ...             ... ..         ...   \n",
       "95316    0.154766           1356.2               1  0           1   \n",
       "95317    0.154766           1356.2               0  2           2   \n",
       "95318    0.154766           1356.2               1  0           0   \n",
       "95319    0.154766           1356.2               0  1           1   \n",
       "95320    0.154766           1356.2               1  0           1   \n",
       "\n",
       "      Fertilizer Usage  Crop_f  Season_f  State_f  Soil Type_f  \n",
       "0                    2    7159     30065     4192        16992  \n",
       "1                    0    7159     30065     4192        16992  \n",
       "2                    1    7159     30065     4192        16992  \n",
       "3                    2    7159     30065     4192        16992  \n",
       "4                    0    7159     30065     4192        32793  \n",
       "...                ...     ...       ...      ...          ...  \n",
       "95316                1    8491     17297     1894        16896  \n",
       "95317                2    8491     17297     1894        11979  \n",
       "95318                0    8491     17297     1894        16896  \n",
       "95319                1    8491     17297     1894        32793  \n",
       "95320                2    8491     17297     1894        16992  \n",
       "\n",
       "[78660 rows x 10 columns]"
      ]
     },
     "execution_count": 214,
     "metadata": {},
     "output_type": "execute_result"
    }
   ],
   "source": [
    "final_merged_df"
   ]
  },
  {
   "cell_type": "code",
   "execution_count": null,
   "metadata": {},
   "outputs": [],
   "source": []
  }
 ],
 "metadata": {
  "kernelspec": {
   "display_name": "tf-gpu-2",
   "language": "python",
   "name": "python3"
  },
  "language_info": {
   "codemirror_mode": {
    "name": "ipython",
    "version": 3
   },
   "file_extension": ".py",
   "mimetype": "text/x-python",
   "name": "python",
   "nbconvert_exporter": "python",
   "pygments_lexer": "ipython3",
   "version": "3.10.16"
  }
 },
 "nbformat": 4,
 "nbformat_minor": 2
}
