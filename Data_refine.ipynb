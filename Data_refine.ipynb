{
 "cells": [
  {
   "cell_type": "markdown",
   "metadata": {},
   "source": [
    "### Refining Data"
   ]
  },
  {
   "cell_type": "code",
   "execution_count": 2,
   "metadata": {},
   "outputs": [],
   "source": [
    "import pandas as pd\n"
   ]
  },
  {
   "cell_type": "code",
   "execution_count": 8,
   "metadata": {},
   "outputs": [],
   "source": [
    "crop_yield = pd.read_csv(r'E:\\competition\\SITNovate hack\\SITNovate_blueberry\\SITNovate\\Data\\crop_yield.csv')\n",
    "crop_data = pd.read_csv(r'E:\\competition\\SITNovate hack\\SITNovate_blueberry\\SITNovate\\Data\\Crop_Data.csv')\n",
    "air_quality = pd.read_csv(r'E:\\competition\\SITNovate hack\\SITNovate_blueberry\\SITNovate\\Data\\Air_Quality.csv')\n"
   ]
  },
  {
   "cell_type": "code",
   "execution_count": 4,
   "metadata": {},
   "outputs": [],
   "source": [
    "# Clean whitespace in key columns\n",
    "for df in [crop_yield, crop_data]:\n",
    "    df['Crop'] = df['Crop'].str.strip()\n",
    "    df['Season'] = df['Season'].str.strip()\n",
    "    df['State'] = df['State'].str.strip()"
   ]
  },
  {
   "cell_type": "code",
   "execution_count": 6,
   "metadata": {},
   "outputs": [],
   "source": [
    "merged_df = pd.merge(\n",
    "    crop_yield,\n",
    "    crop_data,\n",
    "    on=['Crop', 'Season', 'State', 'Area'],\n",
    "    how='outer'\n",
    ")"
   ]
  },
  {
   "cell_type": "code",
   "execution_count": null,
   "metadata": {},
   "outputs": [],
   "source": [
    "\n",
    "air_quality['State'] = air_quality['state'].str.replace('_', ' ')\n",
    "\n",
    "air_quality_agg = air_quality.groupby('State').agg({\n",
    "    'pollutant_min': 'mean',\n",
    "    'pollutant_max': 'mean',\n",
    "    'pollutant_avg': 'mean'\n",
    "}).reset_index()"
   ]
  },
  {
   "cell_type": "code",
   "execution_count": 7,
   "metadata": {},
   "outputs": [
    {
     "name": "stdout",
     "output_type": "stream",
     "text": [
      "<class 'pandas.core.frame.DataFrame'>\n",
      "RangeIndex: 20115 entries, 0 to 20114\n",
      "Data columns (total 17 columns):\n",
      " #   Column            Non-Null Count  Dtype  \n",
      "---  ------            --------------  -----  \n",
      " 0   Crop              20115 non-null  object \n",
      " 1   Crop_Year         20115 non-null  int64  \n",
      " 2   Season            20115 non-null  object \n",
      " 3   State             20115 non-null  object \n",
      " 4   Area              20115 non-null  float64\n",
      " 5   Production        20115 non-null  int64  \n",
      " 6   Annual_Rainfall   20115 non-null  float64\n",
      " 7   Fertilizer        20115 non-null  float64\n",
      " 8   Pesticide         20115 non-null  float64\n",
      " 9   Yield             20115 non-null  float64\n",
      " 10  Soil Type         5799 non-null   object \n",
      " 11  Pesticide Usage   5799 non-null   object \n",
      " 12  pH                5799 non-null   object \n",
      " 13  Temperature       5799 non-null   object \n",
      " 14  Fertilizer Usage  5799 non-null   object \n",
      " 15  Price             5799 non-null   float64\n",
      " 16  Rainfall          5799 non-null   float64\n",
      "dtypes: float64(7), int64(2), object(8)\n",
      "memory usage: 2.6+ MB\n"
     ]
    }
   ],
   "source": [
    "merged_df.info()"
   ]
  },
  {
   "cell_type": "code",
   "execution_count": null,
   "metadata": {},
   "outputs": [],
   "source": [
    "\n",
    "final_merged_df = pd.merge(\n",
    "    merged_df,\n",
    "    air_quality_agg,\n",
    "    on='State',\n",
    "    how='left'  \n",
    ")"
   ]
  },
  {
   "cell_type": "code",
   "execution_count": null,
   "metadata": {},
   "outputs": [],
   "source": [
    "print(\"Final Merged DataFrame Columns:\", final_merged_df.columns.tolist())\n",
    "print(\"\\nSample Rows:\")\n",
    "print(final_merged_df.head())"
   ]
  },
  {
   "cell_type": "code",
   "execution_count": 14,
   "metadata": {},
   "outputs": [
    {
     "name": "stdout",
     "output_type": "stream",
     "text": [
      "<class 'pandas.core.frame.DataFrame'>\n",
      "RangeIndex: 20115 entries, 0 to 20114\n",
      "Data columns (total 20 columns):\n",
      " #   Column            Non-Null Count  Dtype  \n",
      "---  ------            --------------  -----  \n",
      " 0   Crop              20115 non-null  object \n",
      " 1   Crop_Year         20115 non-null  int64  \n",
      " 2   Season            20115 non-null  object \n",
      " 3   State             20115 non-null  object \n",
      " 4   Area              20115 non-null  float64\n",
      " 5   Production        20115 non-null  int64  \n",
      " 6   Annual_Rainfall   20115 non-null  float64\n",
      " 7   Fertilizer        20115 non-null  float64\n",
      " 8   Pesticide         20115 non-null  float64\n",
      " 9   Yield             20115 non-null  float64\n",
      " 10  Soil Type         5799 non-null   object \n",
      " 11  Pesticide Usage   5799 non-null   object \n",
      " 12  pH                5799 non-null   object \n",
      " 13  Temperature       5799 non-null   object \n",
      " 14  Fertilizer Usage  5799 non-null   object \n",
      " 15  Price             5799 non-null   float64\n",
      " 16  Rainfall          5799 non-null   float64\n",
      " 17  pollutant_min     15994 non-null  float64\n",
      " 18  pollutant_max     15994 non-null  float64\n",
      " 19  pollutant_avg     15994 non-null  float64\n",
      "dtypes: float64(10), int64(2), object(8)\n",
      "memory usage: 3.1+ MB\n"
     ]
    }
   ],
   "source": [
    "final_merged_df.info()"
   ]
  },
  {
   "cell_type": "markdown",
   "metadata": {},
   "source": [
    "### Data preprocessing Start"
   ]
  },
  {
   "cell_type": "code",
   "execution_count": null,
   "metadata": {},
   "outputs": [],
   "source": [
    "import pandas as pd\n",
    "import numpy as np"
   ]
  },
  {
   "cell_type": "markdown",
   "metadata": {},
   "source": []
  }
 ],
 "metadata": {
  "kernelspec": {
   "display_name": "tf-gpu-2",
   "language": "python",
   "name": "python3"
  },
  "language_info": {
   "codemirror_mode": {
    "name": "ipython",
    "version": 3
   },
   "file_extension": ".py",
   "mimetype": "text/x-python",
   "name": "python",
   "nbconvert_exporter": "python",
   "pygments_lexer": "ipython3",
   "version": "3.10.16"
  }
 },
 "nbformat": 4,
 "nbformat_minor": 2
}
