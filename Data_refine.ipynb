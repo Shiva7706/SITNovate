{
 "cells": [
  {
   "cell_type": "markdown",
   "metadata": {},
   "source": [
    "### Refining Data"
   ]
  },
  {
   "cell_type": "code",
   "execution_count": 1,
   "metadata": {},
   "outputs": [],
   "source": [
    "import pandas as pd\n"
   ]
  },
  {
   "cell_type": "code",
   "execution_count": 34,
   "metadata": {},
   "outputs": [],
   "source": [
    "crop_yield = pd.read_csv(r'E:\\competition\\SITNovate hack\\SITNovate_blueberry\\SITNovate\\Data\\crop_yield.csv')\n",
    "crop_data = pd.read_csv(r'E:\\competition\\SITNovate hack\\SITNovate_blueberry\\SITNovate\\Data\\Crop_Data.csv')\n",
    "\n"
   ]
  },
  {
   "cell_type": "code",
   "execution_count": 35,
   "metadata": {},
   "outputs": [],
   "source": [
    "# Clean whitespace in key columns\n",
    "for df in [crop_yield, crop_data]:\n",
    "    df['Crop'] = df['Crop'].str.strip()\n",
    "    df['Season'] = df['Season'].str.strip()\n",
    "    df['State'] = df['State'].str.strip()"
   ]
  },
  {
   "cell_type": "code",
   "execution_count": 36,
   "metadata": {},
   "outputs": [],
   "source": [
    "merged_df = pd.merge(\n",
    "    crop_yield,\n",
    "    crop_data,\n",
    "    on=['Crop', 'Season', 'State', 'Area'],\n",
    "    how='inner'\n",
    ")"
   ]
  },
  {
   "cell_type": "code",
   "execution_count": 40,
   "metadata": {},
   "outputs": [
    {
     "name": "stdout",
     "output_type": "stream",
     "text": [
      "<class 'pandas.core.frame.DataFrame'>\n",
      "RangeIndex: 5799 entries, 0 to 5798\n",
      "Data columns (total 17 columns):\n",
      " #   Column            Non-Null Count  Dtype  \n",
      "---  ------            --------------  -----  \n",
      " 0   Crop              5799 non-null   object \n",
      " 1   Crop_Year         5799 non-null   int64  \n",
      " 2   Season            5799 non-null   object \n",
      " 3   State             5799 non-null   object \n",
      " 4   Area              5799 non-null   float64\n",
      " 5   Production        5799 non-null   int64  \n",
      " 6   Annual_Rainfall   5799 non-null   float64\n",
      " 7   Fertilizer        5799 non-null   float64\n",
      " 8   Pesticide         5799 non-null   float64\n",
      " 9   Yield             5799 non-null   float64\n",
      " 10  Soil Type         5799 non-null   object \n",
      " 11  Pesticide Usage   5799 non-null   object \n",
      " 12  pH                5799 non-null   object \n",
      " 13  Temperature       5799 non-null   object \n",
      " 14  Fertilizer Usage  5799 non-null   object \n",
      " 15  Price             5799 non-null   float64\n",
      " 16  Rainfall          5799 non-null   float64\n",
      "dtypes: float64(7), int64(2), object(8)\n",
      "memory usage: 770.3+ KB\n"
     ]
    }
   ],
   "source": [
    "merged_df.info()"
   ]
  },
  {
   "cell_type": "code",
   "execution_count": null,
   "metadata": {},
   "outputs": [],
   "source": []
  }
 ],
 "metadata": {
  "kernelspec": {
   "display_name": "tf-gpu-2",
   "language": "python",
   "name": "python3"
  },
  "language_info": {
   "codemirror_mode": {
    "name": "ipython",
    "version": 3
   },
   "file_extension": ".py",
   "mimetype": "text/x-python",
   "name": "python",
   "nbconvert_exporter": "python",
   "pygments_lexer": "ipython3",
   "version": "3.10.16"
  }
 },
 "nbformat": 4,
 "nbformat_minor": 2
}
