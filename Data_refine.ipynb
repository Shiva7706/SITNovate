{
 "cells": [
  {
   "cell_type": "markdown",
   "metadata": {},
   "source": [
    "### Refining Data"
   ]
  },
  {
   "cell_type": "code",
   "execution_count": 74,
   "metadata": {},
   "outputs": [],
   "source": [
    "import pandas as pd\n"
   ]
  },
  {
   "cell_type": "code",
   "execution_count": 75,
   "metadata": {},
   "outputs": [
    {
     "name": "stderr",
     "output_type": "stream",
     "text": [
      "<>:1: SyntaxWarning: invalid escape sequence '\\c'\n",
      "<>:2: SyntaxWarning: invalid escape sequence '\\C'\n",
      "<>:3: SyntaxWarning: invalid escape sequence '\\A'\n",
      "<>:1: SyntaxWarning: invalid escape sequence '\\c'\n",
      "<>:2: SyntaxWarning: invalid escape sequence '\\C'\n",
      "<>:3: SyntaxWarning: invalid escape sequence '\\A'\n",
      "C:\\Users\\leela\\AppData\\Local\\Temp\\ipykernel_14616\\3957710594.py:1: SyntaxWarning: invalid escape sequence '\\c'\n",
      "  crop_yield = pd.read_csv('Data\\crop_yield.csv')\n",
      "C:\\Users\\leela\\AppData\\Local\\Temp\\ipykernel_14616\\3957710594.py:2: SyntaxWarning: invalid escape sequence '\\C'\n",
      "  crop_data = pd.read_csv('Data\\Crop_Data.csv')\n",
      "C:\\Users\\leela\\AppData\\Local\\Temp\\ipykernel_14616\\3957710594.py:3: SyntaxWarning: invalid escape sequence '\\A'\n",
      "  air_quality = pd.read_csv('Data\\Air_Quality.csv')\n"
     ]
    }
   ],
   "source": [
    "crop_yield = pd.read_csv('Data\\crop_yield.csv')\n",
    "crop_data = pd.read_csv('Data\\Crop_Data.csv')\n",
    "air_quality = pd.read_csv('Data\\Air_Quality.csv')\n"
   ]
  },
  {
   "cell_type": "code",
   "execution_count": 76,
   "metadata": {},
   "outputs": [
    {
     "name": "stdout",
     "output_type": "stream",
     "text": [
      "<class 'pandas.core.frame.DataFrame'>\n",
      "RangeIndex: 19689 entries, 0 to 19688\n",
      "Data columns (total 10 columns):\n",
      " #   Column           Non-Null Count  Dtype  \n",
      "---  ------           --------------  -----  \n",
      " 0   Crop             19689 non-null  object \n",
      " 1   Crop_Year        19689 non-null  int64  \n",
      " 2   Season           19689 non-null  object \n",
      " 3   State            19689 non-null  object \n",
      " 4   Area             19689 non-null  float64\n",
      " 5   Production       19689 non-null  int64  \n",
      " 6   Annual_Rainfall  19689 non-null  float64\n",
      " 7   Fertilizer       19689 non-null  float64\n",
      " 8   Pesticide        19689 non-null  float64\n",
      " 9   Yield            19689 non-null  float64\n",
      "dtypes: float64(5), int64(2), object(3)\n",
      "memory usage: 1.5+ MB\n"
     ]
    }
   ],
   "source": [
    "crop_yield.info()\n",
    "crop_yield.drop([\"Crop_Year\",\"Area\",\"Fertilizer\",\"Pesticide\",\"Yield\"],axis=1,inplace=True)"
   ]
  },
  {
   "cell_type": "code",
   "execution_count": 77,
   "metadata": {},
   "outputs": [
    {
     "name": "stdout",
     "output_type": "stream",
     "text": [
      "<class 'pandas.core.frame.DataFrame'>\n",
      "RangeIndex: 5373 entries, 0 to 5372\n",
      "Data columns (total 11 columns):\n",
      " #   Column            Non-Null Count  Dtype  \n",
      "---  ------            --------------  -----  \n",
      " 0   Crop              5373 non-null   object \n",
      " 1   Season            5373 non-null   object \n",
      " 2   State             5373 non-null   object \n",
      " 3   Area              5373 non-null   float64\n",
      " 4   Soil Type         5373 non-null   object \n",
      " 5   Pesticide Usage   5373 non-null   object \n",
      " 6   pH                5373 non-null   object \n",
      " 7   Temperature       5373 non-null   object \n",
      " 8   Fertilizer Usage  5373 non-null   object \n",
      " 9   Price             5373 non-null   float64\n",
      " 10  Rainfall          5373 non-null   float64\n",
      "dtypes: float64(3), object(8)\n",
      "memory usage: 461.9+ KB\n"
     ]
    }
   ],
   "source": [
    "crop_data.info()\n",
    "crop_data.drop([\"Area\",\"Price\",\"Rainfall\"],axis=1,inplace=True)"
   ]
  },
  {
   "cell_type": "code",
   "execution_count": 78,
   "metadata": {},
   "outputs": [],
   "source": [
    "# Clean whitespace in key columns\n",
    "for df in [crop_yield, crop_data]:\n",
    "    df['Crop'] = df['Crop'].str.strip()\n",
    "    df['Season'] = df['Season'].str.strip()\n",
    "    df['State'] = df['State'].str.strip()"
   ]
  },
  {
   "cell_type": "code",
   "execution_count": 79,
   "metadata": {},
   "outputs": [],
   "source": [
    "final_merged_df = pd.merge(\n",
    "    crop_yield,\n",
    "    crop_data,\n",
    "    on=['Crop', 'Season', 'State'],\n",
    "    how='inner'\n",
    ")"
   ]
  },
  {
   "cell_type": "code",
   "execution_count": 80,
   "metadata": {},
   "outputs": [
    {
     "name": "stdout",
     "output_type": "stream",
     "text": [
      "Final Merged DataFrame Columns: ['Crop', 'Season', 'State', 'Production', 'Annual_Rainfall', 'Soil Type', 'Pesticide Usage', 'pH', 'Temperature', 'Fertilizer Usage']\n",
      "\n",
      "Sample Rows:\n",
      "           Crop  Season  State  Production  Annual_Rainfall      Soil Type  \\\n",
      "0  Cotton(lint)  Kharif  Assam         794           2051.4     Black Soil   \n",
      "1  Cotton(lint)  Kharif  Assam         794           2051.4     Black Soil   \n",
      "2  Cotton(lint)  Kharif  Assam         794           2051.4     Black Soil   \n",
      "3  Cotton(lint)  Kharif  Assam         794           2051.4     Black Soil   \n",
      "4  Cotton(lint)  Kharif  Assam         794           2051.4  Alluvial Soil   \n",
      "\n",
      "  Pesticide Usage       pH Temperature Fertilizer Usage  \n",
      "0             low  Average      Medium             High  \n",
      "1            high  Average      Medium              Low  \n",
      "2             low     High      Medium           Medium  \n",
      "3             low      Low        High             High  \n",
      "4            high     High        High              Low  \n"
     ]
    }
   ],
   "source": [
    "print(\"Final Merged DataFrame Columns:\", final_merged_df.columns.tolist())\n",
    "print(\"\\nSample Rows:\")\n",
    "print(final_merged_df.head())"
   ]
  },
  {
   "cell_type": "code",
   "execution_count": 81,
   "metadata": {},
   "outputs": [
    {
     "name": "stdout",
     "output_type": "stream",
     "text": [
      "<class 'pandas.core.frame.DataFrame'>\n",
      "RangeIndex: 95321 entries, 0 to 95320\n",
      "Data columns (total 10 columns):\n",
      " #   Column            Non-Null Count  Dtype  \n",
      "---  ------            --------------  -----  \n",
      " 0   Crop              95321 non-null  object \n",
      " 1   Season            95321 non-null  object \n",
      " 2   State             95321 non-null  object \n",
      " 3   Production        95321 non-null  int64  \n",
      " 4   Annual_Rainfall   95321 non-null  float64\n",
      " 5   Soil Type         95321 non-null  object \n",
      " 6   Pesticide Usage   95321 non-null  object \n",
      " 7   pH                95321 non-null  object \n",
      " 8   Temperature       95321 non-null  object \n",
      " 9   Fertilizer Usage  95321 non-null  object \n",
      "dtypes: float64(1), int64(1), object(8)\n",
      "memory usage: 7.3+ MB\n"
     ]
    }
   ],
   "source": [
    "final_merged_df.info()"
   ]
  },
  {
   "cell_type": "markdown",
   "metadata": {},
   "source": [
    "### Data preprocessing Start"
   ]
  },
  {
   "cell_type": "code",
   "execution_count": 82,
   "metadata": {},
   "outputs": [],
   "source": [
    "final_merged_df.to_csv(\"data/new_data.csv\")"
   ]
  },
  {
   "cell_type": "code",
   "execution_count": 83,
   "metadata": {},
   "outputs": [
    {
     "data": {
      "text/html": [
       "<div>\n",
       "<style scoped>\n",
       "    .dataframe tbody tr th:only-of-type {\n",
       "        vertical-align: middle;\n",
       "    }\n",
       "\n",
       "    .dataframe tbody tr th {\n",
       "        vertical-align: top;\n",
       "    }\n",
       "\n",
       "    .dataframe thead th {\n",
       "        text-align: right;\n",
       "    }\n",
       "</style>\n",
       "<table border=\"1\" class=\"dataframe\">\n",
       "  <thead>\n",
       "    <tr style=\"text-align: right;\">\n",
       "      <th></th>\n",
       "      <th>Crop</th>\n",
       "      <th>Season</th>\n",
       "      <th>State</th>\n",
       "      <th>Production</th>\n",
       "      <th>Annual_Rainfall</th>\n",
       "      <th>Soil Type</th>\n",
       "      <th>Pesticide Usage</th>\n",
       "      <th>pH</th>\n",
       "      <th>Temperature</th>\n",
       "      <th>Fertilizer Usage</th>\n",
       "    </tr>\n",
       "  </thead>\n",
       "  <tbody>\n",
       "    <tr>\n",
       "      <th>0</th>\n",
       "      <td>Cotton(lint)</td>\n",
       "      <td>Kharif</td>\n",
       "      <td>Assam</td>\n",
       "      <td>794</td>\n",
       "      <td>2051.4</td>\n",
       "      <td>Black Soil</td>\n",
       "      <td>low</td>\n",
       "      <td>Average</td>\n",
       "      <td>Medium</td>\n",
       "      <td>High</td>\n",
       "    </tr>\n",
       "    <tr>\n",
       "      <th>1</th>\n",
       "      <td>Cotton(lint)</td>\n",
       "      <td>Kharif</td>\n",
       "      <td>Assam</td>\n",
       "      <td>794</td>\n",
       "      <td>2051.4</td>\n",
       "      <td>Black Soil</td>\n",
       "      <td>high</td>\n",
       "      <td>Average</td>\n",
       "      <td>Medium</td>\n",
       "      <td>Low</td>\n",
       "    </tr>\n",
       "    <tr>\n",
       "      <th>2</th>\n",
       "      <td>Cotton(lint)</td>\n",
       "      <td>Kharif</td>\n",
       "      <td>Assam</td>\n",
       "      <td>794</td>\n",
       "      <td>2051.4</td>\n",
       "      <td>Black Soil</td>\n",
       "      <td>low</td>\n",
       "      <td>High</td>\n",
       "      <td>Medium</td>\n",
       "      <td>Medium</td>\n",
       "    </tr>\n",
       "    <tr>\n",
       "      <th>3</th>\n",
       "      <td>Cotton(lint)</td>\n",
       "      <td>Kharif</td>\n",
       "      <td>Assam</td>\n",
       "      <td>794</td>\n",
       "      <td>2051.4</td>\n",
       "      <td>Black Soil</td>\n",
       "      <td>low</td>\n",
       "      <td>Low</td>\n",
       "      <td>High</td>\n",
       "      <td>High</td>\n",
       "    </tr>\n",
       "    <tr>\n",
       "      <th>4</th>\n",
       "      <td>Cotton(lint)</td>\n",
       "      <td>Kharif</td>\n",
       "      <td>Assam</td>\n",
       "      <td>794</td>\n",
       "      <td>2051.4</td>\n",
       "      <td>Alluvial Soil</td>\n",
       "      <td>high</td>\n",
       "      <td>High</td>\n",
       "      <td>High</td>\n",
       "      <td>Low</td>\n",
       "    </tr>\n",
       "    <tr>\n",
       "      <th>...</th>\n",
       "      <td>...</td>\n",
       "      <td>...</td>\n",
       "      <td>...</td>\n",
       "      <td>...</td>\n",
       "      <td>...</td>\n",
       "      <td>...</td>\n",
       "      <td>...</td>\n",
       "      <td>...</td>\n",
       "      <td>...</td>\n",
       "      <td>...</td>\n",
       "    </tr>\n",
       "    <tr>\n",
       "      <th>95316</th>\n",
       "      <td>Wheat</td>\n",
       "      <td>Rabi</td>\n",
       "      <td>Jammu and Kashmir</td>\n",
       "      <td>392160</td>\n",
       "      <td>1356.2</td>\n",
       "      <td>Red/Yellow Soil</td>\n",
       "      <td>high</td>\n",
       "      <td>Low</td>\n",
       "      <td>Medium</td>\n",
       "      <td>Medium</td>\n",
       "    </tr>\n",
       "    <tr>\n",
       "      <th>95317</th>\n",
       "      <td>Wheat</td>\n",
       "      <td>Rabi</td>\n",
       "      <td>Jammu and Kashmir</td>\n",
       "      <td>392160</td>\n",
       "      <td>1356.2</td>\n",
       "      <td>Laterile Soil</td>\n",
       "      <td>low</td>\n",
       "      <td>High</td>\n",
       "      <td>High</td>\n",
       "      <td>High</td>\n",
       "    </tr>\n",
       "    <tr>\n",
       "      <th>95318</th>\n",
       "      <td>Wheat</td>\n",
       "      <td>Rabi</td>\n",
       "      <td>Jammu and Kashmir</td>\n",
       "      <td>392160</td>\n",
       "      <td>1356.2</td>\n",
       "      <td>Red/Yellow Soil</td>\n",
       "      <td>high</td>\n",
       "      <td>Low</td>\n",
       "      <td>Low</td>\n",
       "      <td>Low</td>\n",
       "    </tr>\n",
       "    <tr>\n",
       "      <th>95319</th>\n",
       "      <td>Wheat</td>\n",
       "      <td>Rabi</td>\n",
       "      <td>Jammu and Kashmir</td>\n",
       "      <td>392160</td>\n",
       "      <td>1356.2</td>\n",
       "      <td>Alluvial Soil</td>\n",
       "      <td>low</td>\n",
       "      <td>Average</td>\n",
       "      <td>Medium</td>\n",
       "      <td>Medium</td>\n",
       "    </tr>\n",
       "    <tr>\n",
       "      <th>95320</th>\n",
       "      <td>Wheat</td>\n",
       "      <td>Rabi</td>\n",
       "      <td>Jammu and Kashmir</td>\n",
       "      <td>392160</td>\n",
       "      <td>1356.2</td>\n",
       "      <td>Black Soil</td>\n",
       "      <td>high</td>\n",
       "      <td>Low</td>\n",
       "      <td>Medium</td>\n",
       "      <td>High</td>\n",
       "    </tr>\n",
       "  </tbody>\n",
       "</table>\n",
       "<p>95321 rows × 10 columns</p>\n",
       "</div>"
      ],
      "text/plain": [
       "               Crop  Season              State  Production  Annual_Rainfall  \\\n",
       "0      Cotton(lint)  Kharif              Assam         794           2051.4   \n",
       "1      Cotton(lint)  Kharif              Assam         794           2051.4   \n",
       "2      Cotton(lint)  Kharif              Assam         794           2051.4   \n",
       "3      Cotton(lint)  Kharif              Assam         794           2051.4   \n",
       "4      Cotton(lint)  Kharif              Assam         794           2051.4   \n",
       "...             ...     ...                ...         ...              ...   \n",
       "95316         Wheat    Rabi  Jammu and Kashmir      392160           1356.2   \n",
       "95317         Wheat    Rabi  Jammu and Kashmir      392160           1356.2   \n",
       "95318         Wheat    Rabi  Jammu and Kashmir      392160           1356.2   \n",
       "95319         Wheat    Rabi  Jammu and Kashmir      392160           1356.2   \n",
       "95320         Wheat    Rabi  Jammu and Kashmir      392160           1356.2   \n",
       "\n",
       "             Soil Type Pesticide Usage       pH Temperature Fertilizer Usage  \n",
       "0           Black Soil             low  Average      Medium             High  \n",
       "1           Black Soil            high  Average      Medium              Low  \n",
       "2           Black Soil             low     High      Medium           Medium  \n",
       "3           Black Soil             low      Low        High             High  \n",
       "4        Alluvial Soil            high     High        High              Low  \n",
       "...                ...             ...      ...         ...              ...  \n",
       "95316  Red/Yellow Soil            high      Low      Medium           Medium  \n",
       "95317    Laterile Soil             low     High        High             High  \n",
       "95318  Red/Yellow Soil            high      Low         Low              Low  \n",
       "95319    Alluvial Soil             low  Average      Medium           Medium  \n",
       "95320       Black Soil            high      Low      Medium             High  \n",
       "\n",
       "[95321 rows x 10 columns]"
      ]
     },
     "execution_count": 83,
     "metadata": {},
     "output_type": "execute_result"
    }
   ],
   "source": [
    "final_merged_df"
   ]
  },
  {
   "cell_type": "code",
   "execution_count": 84,
   "metadata": {},
   "outputs": [
    {
     "data": {
      "text/plain": [
       "dtype('O')"
      ]
     },
     "execution_count": 84,
     "metadata": {},
     "output_type": "execute_result"
    }
   ],
   "source": [
    "final_merged_df[\"pH\"].dtype"
   ]
  },
  {
   "cell_type": "code",
   "execution_count": null,
   "metadata": {},
   "outputs": [],
   "source": [
    "import pandas as pd\n",
    "import numpy as np"
   ]
  }
 ],
 "metadata": {
  "kernelspec": {
   "display_name": "base",
   "language": "python",
   "name": "python3"
  },
  "language_info": {
   "codemirror_mode": {
    "name": "ipython",
    "version": 3
   },
   "file_extension": ".py",
   "mimetype": "text/x-python",
   "name": "python",
   "nbconvert_exporter": "python",
   "pygments_lexer": "ipython3",
   "version": "3.12.7"
  }
 },
 "nbformat": 4,
 "nbformat_minor": 2
}
